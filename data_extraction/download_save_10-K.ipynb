{
 "cells": [
  {
   "cell_type": "code",
   "execution_count": 10,
   "metadata": {},
   "outputs": [],
   "source": [
    "import os\n",
    "from tqdm import tqdm\n",
    "import pandas as pd"
   ]
  },
  {
   "cell_type": "code",
   "execution_count": 20,
   "metadata": {},
   "outputs": [
    {
     "data": {
      "text/plain": [
       "Symbol\n",
       "MMM     0000066740\n",
       "ABT     0000001800\n",
       "ABBV    0001551152\n",
       "ABMD    0000815094\n",
       "ACN     0001467373\n",
       "Name: CIK, dtype: object"
      ]
     },
     "execution_count": 20,
     "metadata": {},
     "output_type": "execute_result"
    }
   ],
   "source": [
    "sp500_url = 'https://en.wikipedia.org/wiki/List_of_S%26P_500_companies'\n",
    "data_table = pd.read_html(sp500_url)\n",
    "\n",
    "df = data_table[0].set_index(\"Symbol\")\n",
    "\n",
    "def map_fn(cik):\n",
    "    \n",
    "    cik = str(cik)\n",
    "    \n",
    "    if len(cik) == 10:\n",
    "        return cik\n",
    "    else:\n",
    "        \n",
    "        return '0' * (10 - len(cik)) + cik \n",
    "        \n",
    "\n",
    "df['CIK'] = df['CIK'].map(map_fn)\n",
    "\n",
    "df['CIK'].head()"
   ]
  },
  {
   "cell_type": "code",
   "execution_count": 30,
   "metadata": {},
   "outputs": [
    {
     "data": {
      "text/plain": [
       "'0001018724'"
      ]
     },
     "execution_count": 30,
     "metadata": {},
     "output_type": "execute_result"
    }
   ],
   "source": [
    "cik_lookup = df.CIK.to_dict()"
   ]
  },
  {
   "cell_type": "code",
   "execution_count": 2,
   "metadata": {},
   "outputs": [],
   "source": [
    "\"\"\"\n",
    "cik_lookup = {\n",
    "    'AMZN': '0001018724',\n",
    "    'BMY': '0000014272',   \n",
    "    'CNP': '0001130310',\n",
    "    'CVX': '0000093410',\n",
    "    'FL': '0000850209',\n",
    "    'FRT': '0000034903',\n",
    "    'HON': '0000773840'}\n",
    "    \n",
    "\"\"\""
   ]
  },
  {
   "cell_type": "code",
   "execution_count": 3,
   "metadata": {},
   "outputs": [],
   "source": [
    "# import requests as req\n",
    "from bs4 import BeautifulSoup\n",
    "import requests\n",
    "\n",
    "def get_sec_data(cik, doc_type, start=0, count=60):\n",
    "    rss_url = 'https://www.sec.gov/cgi-bin/browse-edgar?action=getcompany' \\\n",
    "        '&CIK={}&type={}&start={}&count={}&owner=exclude&output=atom' \\\n",
    "        .format(cik, doc_type, start, count)\n",
    "    # sec_data = sec_api.get(rss_url)\n",
    "    # sec_data = req.get(rss_url)\n",
    "    sec_data = requests.get(rss_url, timeout=5)\n",
    "    # feed = BeautifulSoup(sec_data.encode('ascii'), 'xml').feed\n",
    "    feed = BeautifulSoup(sec_data.content, \"xml\").feed\n",
    "    entries = [\n",
    "        (\n",
    "            entry.content.find('filing-href').getText(),\n",
    "            entry.content.find('filing-type').getText(),\n",
    "            entry.content.find('filing-date').getText())\n",
    "        for entry in feed.find_all('entry', recursive=False)]\n",
    "\n",
    "    return entries"
   ]
  },
  {
   "cell_type": "code",
   "execution_count": 5,
   "metadata": {},
   "outputs": [],
   "source": [
    "#example_ticker = 'AMZN'\n",
    "sec_data = {}\n",
    "\n",
    "import pprint\n",
    "\n",
    "for ticker, cik in cik_lookup.items():\n",
    "    sec_data[ticker] = get_sec_data(cik, '10-K')\n",
    "\n",
    "#pprint.pprint(sec_data[example_ticker])"
   ]
  },
  {
   "cell_type": "code",
   "execution_count": 6,
   "metadata": {},
   "outputs": [
    {
     "name": "stderr",
     "output_type": "stream",
     "text": [
      "Downloading AMZN Fillings: 100%|██████████| 24/24 [00:13<00:00,  1.81filling/s]\n",
      "Downloading BMY Fillings: 100%|██████████| 29/29 [00:15<00:00,  2.17filling/s]\n",
      "Downloading CNP Fillings: 100%|██████████| 21/21 [00:09<00:00,  2.22filling/s]\n",
      "Downloading CVX Fillings: 100%|██████████| 27/27 [00:14<00:00,  2.25filling/s]\n",
      "Downloading FL Fillings: 100%|██████████| 24/24 [00:11<00:00,  2.15filling/s]\n",
      "Downloading FRT Fillings: 100%|██████████| 31/31 [00:11<00:00,  4.03filling/s]\n",
      "Downloading HON Fillings: 100%|██████████| 27/27 [00:13<00:00,  2.03filling/s]\n"
     ]
    }
   ],
   "source": [
    "\n",
    "raw_fillings_by_ticker = {}\n",
    "\n",
    "for ticker, data in sec_data.items():\n",
    "    raw_fillings_by_ticker[ticker] = {}\n",
    "    for index_url, file_type, file_date in tqdm(data, desc='Downloading {} Fillings'.format(ticker), unit='filling'):\n",
    "        if (file_type == '10-K'):\n",
    "            file_url = index_url.replace('-index.htm', '.txt').replace('.txtl', '.txt')            \n",
    "            \n",
    "            # raw_fillings_by_ticker[ticker][file_date] = sec_api.get(file_url)\n",
    "            raw_fillings_by_ticker[ticker][file_date] = requests.get(file_url, timeout=5).content.decode(\"utf-8\")#requests.get(file_url, timeout=5)\n"
   ]
  },
  {
   "cell_type": "code",
   "execution_count": 31,
   "metadata": {},
   "outputs": [],
   "source": [
    "for tix in raw_fillings_by_ticker.keys():\n",
    "    \n",
    "    path = os.getcwd() + '/' + '10-K/' + tix\n",
    "\n",
    "    if not os.path.exists(path):\n",
    "        os.mkdir(path)\n",
    "    else:\n",
    "        pass\n",
    "\n",
    "    for date in raw_fillings_by_ticker[tix].keys():\n",
    "\n",
    "        new_path = path + '/' + date + '.htm'\n",
    "\n",
    "        with open(new_path, \"w\") as text_file:\n",
    "            text_file.write(raw_fillings_by_ticker[tix][date])"
   ]
  },
  {
   "cell_type": "code",
   "execution_count": null,
   "metadata": {},
   "outputs": [],
   "source": []
  }
 ],
 "metadata": {
  "kernelspec": {
   "display_name": "Python 3",
   "language": "python",
   "name": "python3"
  },
  "language_info": {
   "codemirror_mode": {
    "name": "ipython",
    "version": 3
   },
   "file_extension": ".py",
   "mimetype": "text/x-python",
   "name": "python",
   "nbconvert_exporter": "python",
   "pygments_lexer": "ipython3",
   "version": "3.6.5"
  }
 },
 "nbformat": 4,
 "nbformat_minor": 4
}
