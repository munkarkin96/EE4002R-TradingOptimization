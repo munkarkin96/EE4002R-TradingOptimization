{
 "cells": [
  {
   "cell_type": "code",
   "execution_count": 1,
   "metadata": {},
   "outputs": [],
   "source": [
    "from numpy import vstack,array\n",
    "from numpy.random import rand\n",
    "import numpy as np\n",
    "from scipy.cluster.vq import kmeans,vq\n",
    "import pandas as pd\n",
    "import pandas_datareader as dr\n",
    "from math import sqrt\n",
    "from sklearn.cluster import KMeans\n",
    "from matplotlib import pyplot as plt"
   ]
  },
  {
   "cell_type": "code",
   "execution_count": 2,
   "metadata": {},
   "outputs": [],
   "source": [
    "sp100_url = 'https://en.wikipedia.org/wiki/S%26P_100'"
   ]
  },
  {
   "cell_type": "code",
   "execution_count": 3,
   "metadata": {},
   "outputs": [],
   "source": [
    "data_table = pd.read_html(sp100_url)"
   ]
  },
  {
   "cell_type": "code",
   "execution_count": 8,
   "metadata": {},
   "outputs": [
    {
     "name": "stdout",
     "output_type": "stream",
     "text": [
      "0/100\n",
      "20/100\n",
      "40/100\n",
      "60/100\n",
      "80/100\n"
     ]
    }
   ],
   "source": [
    "tickers = data_table[2]['Symbol'].values\n",
    "\n",
    "prices_list = []\n",
    "length = len(tickers)\n",
    "for i, ticker in enumerate(tickers):\n",
    "    if i % 20 == 0:\n",
    "        print(\"{}/{}\".format(i, length))\n",
    "    try:\n",
    "        prices = dr.DataReader(ticker,'yahoo','06/05/2012')['Close']\n",
    "        prices = pd.DataFrame(prices)\n",
    "        prices.columns = [ticker]\n",
    "        prices_list.append(prices)\n",
    "    except:\n",
    "        pass\n",
    "    prices_df = pd.concat(prices_list,axis=1)\n",
    " \n",
    "prices_df.sort_index(inplace=True)\n",
    " "
   ]
  },
  {
   "cell_type": "code",
   "execution_count": 9,
   "metadata": {},
   "outputs": [
    {
     "data": {
      "text/plain": [
       "(1765, 99)"
      ]
     },
     "execution_count": 9,
     "metadata": {},
     "output_type": "execute_result"
    }
   ],
   "source": [
    "prices_df.shape"
   ]
  },
  {
   "cell_type": "code",
   "execution_count": 10,
   "metadata": {},
   "outputs": [
    {
     "data": {
      "text/html": [
       "<div>\n",
       "<style scoped>\n",
       "    .dataframe tbody tr th:only-of-type {\n",
       "        vertical-align: middle;\n",
       "    }\n",
       "\n",
       "    .dataframe tbody tr th {\n",
       "        vertical-align: top;\n",
       "    }\n",
       "\n",
       "    .dataframe thead th {\n",
       "        text-align: right;\n",
       "    }\n",
       "</style>\n",
       "<table border=\"1\" class=\"dataframe\">\n",
       "  <thead>\n",
       "    <tr style=\"text-align: right;\">\n",
       "      <th></th>\n",
       "      <th>AAPL</th>\n",
       "      <th>ABBV</th>\n",
       "      <th>ABT</th>\n",
       "      <th>ACN</th>\n",
       "      <th>ADBE</th>\n",
       "      <th>AGN</th>\n",
       "      <th>AIG</th>\n",
       "      <th>ALL</th>\n",
       "      <th>AMGN</th>\n",
       "      <th>AMZN</th>\n",
       "      <th>...</th>\n",
       "      <th>UNP</th>\n",
       "      <th>UPS</th>\n",
       "      <th>USB</th>\n",
       "      <th>UTX</th>\n",
       "      <th>V</th>\n",
       "      <th>VZ</th>\n",
       "      <th>WBA</th>\n",
       "      <th>WFC</th>\n",
       "      <th>WMT</th>\n",
       "      <th>XOM</th>\n",
       "    </tr>\n",
       "    <tr>\n",
       "      <th>Date</th>\n",
       "      <th></th>\n",
       "      <th></th>\n",
       "      <th></th>\n",
       "      <th></th>\n",
       "      <th></th>\n",
       "      <th></th>\n",
       "      <th></th>\n",
       "      <th></th>\n",
       "      <th></th>\n",
       "      <th></th>\n",
       "      <th></th>\n",
       "      <th></th>\n",
       "      <th></th>\n",
       "      <th></th>\n",
       "      <th></th>\n",
       "      <th></th>\n",
       "      <th></th>\n",
       "      <th></th>\n",
       "      <th></th>\n",
       "      <th></th>\n",
       "      <th></th>\n",
       "    </tr>\n",
       "  </thead>\n",
       "  <tbody>\n",
       "    <tr>\n",
       "      <th>2012-06-04</th>\n",
       "      <td>80.612854</td>\n",
       "      <td>NaN</td>\n",
       "      <td>28.893557</td>\n",
       "      <td>56.119999</td>\n",
       "      <td>30.309999</td>\n",
       "      <td>69.029999</td>\n",
       "      <td>27.530001</td>\n",
       "      <td>33.009998</td>\n",
       "      <td>68.699997</td>\n",
       "      <td>214.570007</td>\n",
       "      <td>...</td>\n",
       "      <td>53.224998</td>\n",
       "      <td>72.989998</td>\n",
       "      <td>28.790001</td>\n",
       "      <td>71.449997</td>\n",
       "      <td>28.540001</td>\n",
       "      <td>41.340000</td>\n",
       "      <td>30.510000</td>\n",
       "      <td>30.049999</td>\n",
       "      <td>65.989998</td>\n",
       "      <td>77.830002</td>\n",
       "    </tr>\n",
       "    <tr>\n",
       "      <th>2012-06-05</th>\n",
       "      <td>80.404289</td>\n",
       "      <td>NaN</td>\n",
       "      <td>28.931940</td>\n",
       "      <td>56.740002</td>\n",
       "      <td>30.709999</td>\n",
       "      <td>69.349998</td>\n",
       "      <td>28.650000</td>\n",
       "      <td>33.139999</td>\n",
       "      <td>68.449997</td>\n",
       "      <td>213.210007</td>\n",
       "      <td>...</td>\n",
       "      <td>53.540001</td>\n",
       "      <td>72.800003</td>\n",
       "      <td>29.219999</td>\n",
       "      <td>70.879997</td>\n",
       "      <td>28.452499</td>\n",
       "      <td>41.200001</td>\n",
       "      <td>30.580000</td>\n",
       "      <td>30.520000</td>\n",
       "      <td>65.500000</td>\n",
       "      <td>77.599998</td>\n",
       "    </tr>\n",
       "    <tr>\n",
       "      <th>2012-06-06</th>\n",
       "      <td>81.637146</td>\n",
       "      <td>NaN</td>\n",
       "      <td>29.286991</td>\n",
       "      <td>58.419998</td>\n",
       "      <td>31.690001</td>\n",
       "      <td>70.000000</td>\n",
       "      <td>29.900000</td>\n",
       "      <td>34.090000</td>\n",
       "      <td>69.980003</td>\n",
       "      <td>217.639999</td>\n",
       "      <td>...</td>\n",
       "      <td>55.090000</td>\n",
       "      <td>74.980003</td>\n",
       "      <td>29.700001</td>\n",
       "      <td>73.639999</td>\n",
       "      <td>29.084999</td>\n",
       "      <td>41.770000</td>\n",
       "      <td>30.959999</td>\n",
       "      <td>30.969999</td>\n",
       "      <td>65.930000</td>\n",
       "      <td>80.180000</td>\n",
       "    </tr>\n",
       "    <tr>\n",
       "      <th>2012-06-07</th>\n",
       "      <td>81.674286</td>\n",
       "      <td>NaN</td>\n",
       "      <td>29.363760</td>\n",
       "      <td>58.860001</td>\n",
       "      <td>31.320000</td>\n",
       "      <td>69.099998</td>\n",
       "      <td>30.150000</td>\n",
       "      <td>34.070000</td>\n",
       "      <td>69.099998</td>\n",
       "      <td>218.800003</td>\n",
       "      <td>...</td>\n",
       "      <td>55.139999</td>\n",
       "      <td>75.470001</td>\n",
       "      <td>29.580000</td>\n",
       "      <td>75.400002</td>\n",
       "      <td>29.202499</td>\n",
       "      <td>41.639999</td>\n",
       "      <td>30.980000</td>\n",
       "      <td>31.180000</td>\n",
       "      <td>65.870003</td>\n",
       "      <td>80.690002</td>\n",
       "    </tr>\n",
       "    <tr>\n",
       "      <th>2012-06-08</th>\n",
       "      <td>82.902855</td>\n",
       "      <td>NaN</td>\n",
       "      <td>29.690023</td>\n",
       "      <td>58.529999</td>\n",
       "      <td>31.650000</td>\n",
       "      <td>70.889999</td>\n",
       "      <td>30.480000</td>\n",
       "      <td>34.310001</td>\n",
       "      <td>68.870003</td>\n",
       "      <td>218.479996</td>\n",
       "      <td>...</td>\n",
       "      <td>55.320000</td>\n",
       "      <td>76.629997</td>\n",
       "      <td>30.100000</td>\n",
       "      <td>75.500000</td>\n",
       "      <td>29.145000</td>\n",
       "      <td>42.439999</td>\n",
       "      <td>31.160000</td>\n",
       "      <td>31.430000</td>\n",
       "      <td>68.220001</td>\n",
       "      <td>80.839996</td>\n",
       "    </tr>\n",
       "  </tbody>\n",
       "</table>\n",
       "<p>5 rows × 99 columns</p>\n",
       "</div>"
      ],
      "text/plain": [
       "                 AAPL  ABBV        ABT        ACN       ADBE        AGN  \\\n",
       "Date                                                                      \n",
       "2012-06-04  80.612854   NaN  28.893557  56.119999  30.309999  69.029999   \n",
       "2012-06-05  80.404289   NaN  28.931940  56.740002  30.709999  69.349998   \n",
       "2012-06-06  81.637146   NaN  29.286991  58.419998  31.690001  70.000000   \n",
       "2012-06-07  81.674286   NaN  29.363760  58.860001  31.320000  69.099998   \n",
       "2012-06-08  82.902855   NaN  29.690023  58.529999  31.650000  70.889999   \n",
       "\n",
       "                  AIG        ALL       AMGN        AMZN  ...        UNP  \\\n",
       "Date                                                     ...              \n",
       "2012-06-04  27.530001  33.009998  68.699997  214.570007  ...  53.224998   \n",
       "2012-06-05  28.650000  33.139999  68.449997  213.210007  ...  53.540001   \n",
       "2012-06-06  29.900000  34.090000  69.980003  217.639999  ...  55.090000   \n",
       "2012-06-07  30.150000  34.070000  69.099998  218.800003  ...  55.139999   \n",
       "2012-06-08  30.480000  34.310001  68.870003  218.479996  ...  55.320000   \n",
       "\n",
       "                  UPS        USB        UTX          V         VZ        WBA  \\\n",
       "Date                                                                           \n",
       "2012-06-04  72.989998  28.790001  71.449997  28.540001  41.340000  30.510000   \n",
       "2012-06-05  72.800003  29.219999  70.879997  28.452499  41.200001  30.580000   \n",
       "2012-06-06  74.980003  29.700001  73.639999  29.084999  41.770000  30.959999   \n",
       "2012-06-07  75.470001  29.580000  75.400002  29.202499  41.639999  30.980000   \n",
       "2012-06-08  76.629997  30.100000  75.500000  29.145000  42.439999  31.160000   \n",
       "\n",
       "                  WFC        WMT        XOM  \n",
       "Date                                         \n",
       "2012-06-04  30.049999  65.989998  77.830002  \n",
       "2012-06-05  30.520000  65.500000  77.599998  \n",
       "2012-06-06  30.969999  65.930000  80.180000  \n",
       "2012-06-07  31.180000  65.870003  80.690002  \n",
       "2012-06-08  31.430000  68.220001  80.839996  \n",
       "\n",
       "[5 rows x 99 columns]"
      ]
     },
     "execution_count": 10,
     "metadata": {},
     "output_type": "execute_result"
    }
   ],
   "source": [
    "prices_df.head()"
   ]
  },
  {
   "cell_type": "code",
   "execution_count": 11,
   "metadata": {},
   "outputs": [],
   "source": [
    "prices_df_dropped = prices_df.dropna(axis='columns')"
   ]
  },
  {
   "cell_type": "code",
   "execution_count": 12,
   "metadata": {},
   "outputs": [
    {
     "data": {
      "text/plain": [
       "(1765, 93)"
      ]
     },
     "execution_count": 12,
     "metadata": {},
     "output_type": "execute_result"
    }
   ],
   "source": [
    "prices_df_dropped.shape"
   ]
  },
  {
   "cell_type": "code",
   "execution_count": 13,
   "metadata": {},
   "outputs": [],
   "source": [
    "prices_df_dropped.to_csv('sp100_close_data.csv', index=True)"
   ]
  },
  {
   "cell_type": "code",
   "execution_count": 17,
   "metadata": {},
   "outputs": [],
   "source": [
    "stock_info = pd.read_csv('sp500_stock_info.csv')"
   ]
  },
  {
   "cell_type": "code",
   "execution_count": null,
   "metadata": {},
   "outputs": [],
   "source": []
  },
  {
   "cell_type": "code",
   "execution_count": 20,
   "metadata": {},
   "outputs": [],
   "source": [
    "to_be_dropped_idx = []\n",
    "for i, ticks in enumerate(stock_info['Symbol']):\n",
    "    # remove the ones removed above due to NaN\n",
    "    if ticks not in prices_df_dropped.columns:\n",
    "        to_be_dropped_idx.append(i)\n",
    "        \n",
    "\n",
    "stock_info = stock_info.drop(stock_info.index[to_be_dropped_idx])"
   ]
  },
  {
   "cell_type": "code",
   "execution_count": 23,
   "metadata": {},
   "outputs": [
    {
     "data": {
      "text/plain": [
       "(93, 9)"
      ]
     },
     "execution_count": 23,
     "metadata": {},
     "output_type": "execute_result"
    }
   ],
   "source": [
    "stock_info.shape"
   ]
  },
  {
   "cell_type": "code",
   "execution_count": 25,
   "metadata": {},
   "outputs": [],
   "source": [
    "stock_info.to_csv('sp100_stock_info.csv', index=False)"
   ]
  },
  {
   "cell_type": "code",
   "execution_count": null,
   "metadata": {},
   "outputs": [],
   "source": []
  },
  {
   "cell_type": "code",
   "execution_count": null,
   "metadata": {},
   "outputs": [],
   "source": []
  },
  {
   "cell_type": "code",
   "execution_count": null,
   "metadata": {},
   "outputs": [],
   "source": []
  },
  {
   "cell_type": "code",
   "execution_count": null,
   "metadata": {},
   "outputs": [],
   "source": []
  },
  {
   "cell_type": "code",
   "execution_count": null,
   "metadata": {},
   "outputs": [],
   "source": []
  },
  {
   "cell_type": "code",
   "execution_count": null,
   "metadata": {},
   "outputs": [],
   "source": []
  },
  {
   "cell_type": "code",
   "execution_count": null,
   "metadata": {},
   "outputs": [],
   "source": []
  },
  {
   "cell_type": "code",
   "execution_count": null,
   "metadata": {},
   "outputs": [],
   "source": []
  },
  {
   "cell_type": "code",
   "execution_count": null,
   "metadata": {},
   "outputs": [],
   "source": []
  },
  {
   "cell_type": "code",
   "execution_count": null,
   "metadata": {},
   "outputs": [],
   "source": []
  }
 ],
 "metadata": {
  "kernelspec": {
   "display_name": "Python 3",
   "language": "python",
   "name": "python3"
  },
  "language_info": {
   "codemirror_mode": {
    "name": "ipython",
    "version": 3
   },
   "file_extension": ".py",
   "mimetype": "text/x-python",
   "name": "python",
   "nbconvert_exporter": "python",
   "pygments_lexer": "ipython3",
   "version": "3.6.5"
  }
 },
 "nbformat": 4,
 "nbformat_minor": 2
}
