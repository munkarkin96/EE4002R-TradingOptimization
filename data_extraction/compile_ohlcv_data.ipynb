{
 "cells": [
  {
   "cell_type": "code",
   "execution_count": 1,
   "metadata": {},
   "outputs": [],
   "source": [
    "import pandas as pd"
   ]
  },
  {
   "cell_type": "code",
   "execution_count": 2,
   "metadata": {},
   "outputs": [],
   "source": [
    "from numpy import vstack,array\n",
    "from numpy.random import rand\n",
    "import numpy as np\n",
    "from scipy.cluster.vq import kmeans,vq\n",
    "import pandas as pd\n",
    "import pandas_datareader as dr\n",
    "from math import sqrt\n",
    "from sklearn.cluster import KMeans\n",
    "from matplotlib import pyplot as plt\n"
   ]
  },
  {
   "cell_type": "code",
   "execution_count": 3,
   "metadata": {},
   "outputs": [],
   "source": [
    "sp500_url = 'https://en.wikipedia.org/wiki/List_of_S%26P_500_companies'\n",
    " \n",
    "#read in the url and scrape ticker data\n",
    "data_table = pd.read_html(sp500_url)\n",
    "tickers = data_table[0]['Symbol'].values\n"
   ]
  },
  {
   "cell_type": "code",
   "execution_count": 4,
   "metadata": {},
   "outputs": [
    {
     "name": "stdout",
     "output_type": "stream",
     "text": [
      "Open\n",
      "0/505\n",
      "100/505\n",
      "200/505\n",
      "300/505\n",
      "400/505\n",
      "500/505\n",
      "Close\n",
      "0/505\n",
      "100/505\n",
      "200/505\n",
      "300/505\n",
      "400/505\n",
      "500/505\n",
      "High\n",
      "0/505\n",
      "100/505\n",
      "200/505\n",
      "300/505\n",
      "400/505\n",
      "500/505\n",
      "Low\n",
      "0/505\n",
      "100/505\n",
      "200/505\n",
      "300/505\n",
      "400/505\n",
      "500/505\n",
      "Adj Close\n",
      "0/505\n",
      "100/505\n",
      "200/505\n",
      "300/505\n",
      "400/505\n",
      "500/505\n",
      "Volume\n",
      "0/505\n",
      "100/505\n",
      "200/505\n",
      "300/505\n",
      "400/505\n",
      "500/505\n"
     ]
    }
   ],
   "source": [
    "\n",
    "\n",
    "length = len(tickers)\n",
    "\n",
    "concat = []\n",
    "\n",
    "for pos in ['Open', 'Close', 'High', 'Low', 'Adj Close', 'Volume']:\n",
    "    prices_list = []\n",
    "    \n",
    "    print(pos)\n",
    "\n",
    "    for i, ticker in enumerate(tickers):\n",
    "        if i % 100 == 0:\n",
    "            print(\"{}/{}\".format(i, length))\n",
    "        try:\n",
    "            prices = dr.DataReader(ticker,'yahoo','01/01/2008')[pos]\n",
    "            prices = pd.DataFrame(prices)\n",
    "            prices.columns = [ticker]\n",
    "            prices_list.append(prices)\n",
    "        except:\n",
    "            pass\n",
    "        ref = pd.concat(prices_list,axis=1)\n",
    "\n",
    "    ref.sort_index(inplace=True)\n",
    "    \n",
    "    concat.append(pd.DataFrame(ref.stack(), columns = [pos]))\n"
   ]
  },
  {
   "cell_type": "code",
   "execution_count": 5,
   "metadata": {},
   "outputs": [],
   "source": [
    "df = pd.concat(concat, axis = 1, sort = False)\n"
   ]
  },
  {
   "cell_type": "code",
   "execution_count": 8,
   "metadata": {},
   "outputs": [
    {
     "data": {
      "text/plain": [
       "(1394614, 6)"
      ]
     },
     "execution_count": 8,
     "metadata": {},
     "output_type": "execute_result"
    }
   ],
   "source": [
    "df.shape"
   ]
  },
  {
   "cell_type": "code",
   "execution_count": 9,
   "metadata": {},
   "outputs": [],
   "source": [
    "df.to_csv(\"sp500_all_data.csv\")"
   ]
  },
  {
   "cell_type": "code",
   "execution_count": 10,
   "metadata": {},
   "outputs": [
    {
     "data": {
      "text/html": [
       "<div>\n",
       "<style scoped>\n",
       "    .dataframe tbody tr th:only-of-type {\n",
       "        vertical-align: middle;\n",
       "    }\n",
       "\n",
       "    .dataframe tbody tr th {\n",
       "        vertical-align: top;\n",
       "    }\n",
       "\n",
       "    .dataframe thead th {\n",
       "        text-align: right;\n",
       "    }\n",
       "</style>\n",
       "<table border=\"1\" class=\"dataframe\">\n",
       "  <thead>\n",
       "    <tr style=\"text-align: right;\">\n",
       "      <th></th>\n",
       "      <th></th>\n",
       "      <th>Open</th>\n",
       "      <th>Close</th>\n",
       "      <th>High</th>\n",
       "      <th>Low</th>\n",
       "      <th>Adj Close</th>\n",
       "      <th>Volume</th>\n",
       "    </tr>\n",
       "    <tr>\n",
       "      <th>Date</th>\n",
       "      <th></th>\n",
       "      <th></th>\n",
       "      <th></th>\n",
       "      <th></th>\n",
       "      <th></th>\n",
       "      <th></th>\n",
       "      <th></th>\n",
       "    </tr>\n",
       "  </thead>\n",
       "  <tbody>\n",
       "    <tr>\n",
       "      <th rowspan=\"5\" valign=\"top\">2019-08-01</th>\n",
       "      <th>XYL</th>\n",
       "      <td>79.570000</td>\n",
       "      <td>79.400002</td>\n",
       "      <td>79.559998</td>\n",
       "      <td>78.000000</td>\n",
       "      <td>79.320000</td>\n",
       "      <td>595034.0</td>\n",
       "    </tr>\n",
       "    <tr>\n",
       "      <th>YUM</th>\n",
       "      <td>116.150002</td>\n",
       "      <td>118.559998</td>\n",
       "      <td>119.639999</td>\n",
       "      <td>115.760002</td>\n",
       "      <td>118.750000</td>\n",
       "      <td>1023205.0</td>\n",
       "    </tr>\n",
       "    <tr>\n",
       "      <th>ZBH</th>\n",
       "      <td>135.199997</td>\n",
       "      <td>137.880005</td>\n",
       "      <td>138.684998</td>\n",
       "      <td>134.960007</td>\n",
       "      <td>137.779999</td>\n",
       "      <td>638179.0</td>\n",
       "    </tr>\n",
       "    <tr>\n",
       "      <th>ZION</th>\n",
       "      <td>44.849998</td>\n",
       "      <td>45.009998</td>\n",
       "      <td>45.169998</td>\n",
       "      <td>44.509998</td>\n",
       "      <td>44.849998</td>\n",
       "      <td>551780.0</td>\n",
       "    </tr>\n",
       "    <tr>\n",
       "      <th>ZTS</th>\n",
       "      <td>114.900002</td>\n",
       "      <td>115.010002</td>\n",
       "      <td>115.790001</td>\n",
       "      <td>114.019997</td>\n",
       "      <td>115.680000</td>\n",
       "      <td>446599.0</td>\n",
       "    </tr>\n",
       "  </tbody>\n",
       "</table>\n",
       "</div>"
      ],
      "text/plain": [
       "                       Open       Close        High         Low   Adj Close  \\\n",
       "Date                                                                          \n",
       "2019-08-01 XYL    79.570000   79.400002   79.559998   78.000000   79.320000   \n",
       "           YUM   116.150002  118.559998  119.639999  115.760002  118.750000   \n",
       "           ZBH   135.199997  137.880005  138.684998  134.960007  137.779999   \n",
       "           ZION   44.849998   45.009998   45.169998   44.509998   44.849998   \n",
       "           ZTS   114.900002  115.010002  115.790001  114.019997  115.680000   \n",
       "\n",
       "                    Volume  \n",
       "Date                        \n",
       "2019-08-01 XYL    595034.0  \n",
       "           YUM   1023205.0  \n",
       "           ZBH    638179.0  \n",
       "           ZION   551780.0  \n",
       "           ZTS    446599.0  "
      ]
     },
     "execution_count": 10,
     "metadata": {},
     "output_type": "execute_result"
    }
   ],
   "source": [
    "df.tail()"
   ]
  },
  {
   "cell_type": "code",
   "execution_count": null,
   "metadata": {},
   "outputs": [],
   "source": []
  }
 ],
 "metadata": {
  "kernelspec": {
   "display_name": "Python 3",
   "language": "python",
   "name": "python3"
  },
  "language_info": {
   "codemirror_mode": {
    "name": "ipython",
    "version": 3
   },
   "file_extension": ".py",
   "mimetype": "text/x-python",
   "name": "python",
   "nbconvert_exporter": "python",
   "pygments_lexer": "ipython3",
   "version": "3.6.5"
  }
 },
 "nbformat": 4,
 "nbformat_minor": 4
}
